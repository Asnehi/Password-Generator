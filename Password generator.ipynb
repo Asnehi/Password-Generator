{
 "cells": [
  {
   "cell_type": "code",
   "execution_count": 1,
   "id": "fbcb07a7",
   "metadata": {},
   "outputs": [
    {
     "name": "stdout",
     "output_type": "stream",
     "text": [
      "Enter the length of password: 10\n",
      "Your Password is:  p\";ETuiJ@O\n"
     ]
    }
   ],
   "source": [
    "import random\n",
    "import string\n",
    "\n",
    "# Define the function to generate password\n",
    "def generate_password(length):\n",
    "    # Define the possible characters for password\n",
    "    chars = string.ascii_letters + string.digits + string.punctuation\n",
    "    # Use random module to generate password\n",
    "    password = ''.join(random.choice(chars) for i in range(length))\n",
    "    # Return the password\n",
    "    return password\n",
    "\n",
    "# Get the length of the password from user\n",
    "password_length = int(input(\"Enter the length of password: \"))\n",
    "\n",
    "# Generate and print the password\n",
    "print(\"Your Password is: \", generate_password(password_length))\n"
   ]
  },
  {
   "cell_type": "code",
   "execution_count": null,
   "id": "9f1aa51f",
   "metadata": {},
   "outputs": [],
   "source": []
  }
 ],
 "metadata": {
  "kernelspec": {
   "display_name": "Python 3 (ipykernel)",
   "language": "python",
   "name": "python3"
  },
  "language_info": {
   "codemirror_mode": {
    "name": "ipython",
    "version": 3
   },
   "file_extension": ".py",
   "mimetype": "text/x-python",
   "name": "python",
   "nbconvert_exporter": "python",
   "pygments_lexer": "ipython3",
   "version": "3.9.13"
  }
 },
 "nbformat": 4,
 "nbformat_minor": 5
}
